{
 "cells": [
  {
   "cell_type": "markdown",
   "id": "e393372c",
   "metadata": {},
   "source": [
    "# Sigmoid Function "
   ]
  },
  {
   "cell_type": "code",
   "execution_count": null,
   "id": "bd62aede",
   "metadata": {},
   "outputs": [],
   "source": [
    "#Sigmoid function is a widely used activation function.\n",
    "#This function ranges from 0 to 1.\n",
    "#This function looks like S-shape structured.\n",
    "#Mostly we can this function at ouput stage to compute the values.\n"
   ]
  },
  {
   "cell_type": "code",
   "execution_count": 1,
   "id": "8aa32095",
   "metadata": {},
   "outputs": [],
   "source": [
    "import math\n",
    "\n",
    "def sigmoid(x):\n",
    "  return 1 / (1 + math.exp(-x))"
   ]
  },
  {
   "cell_type": "code",
   "execution_count": 2,
   "id": "42b78929",
   "metadata": {},
   "outputs": [
    {
     "data": {
      "text/plain": [
       "1.0"
      ]
     },
     "execution_count": 2,
     "metadata": {},
     "output_type": "execute_result"
    }
   ],
   "source": [
    "sigmoid(100)\n"
   ]
  },
  {
   "cell_type": "code",
   "execution_count": 3,
   "id": "987aa52c",
   "metadata": {},
   "outputs": [
    {
     "data": {
      "text/plain": [
       "1.0"
      ]
     },
     "execution_count": 3,
     "metadata": {},
     "output_type": "execute_result"
    }
   ],
   "source": [
    "sigmoid(200)\n"
   ]
  },
  {
   "cell_type": "code",
   "execution_count": 8,
   "id": "acb3b866",
   "metadata": {},
   "outputs": [
    {
     "data": {
      "text/plain": [
       "0.7310585786300049"
      ]
     },
     "execution_count": 8,
     "metadata": {},
     "output_type": "execute_result"
    }
   ],
   "source": [
    "sigmoid(1)\n"
   ]
  },
  {
   "cell_type": "code",
   "execution_count": 26,
   "id": "be934ca9",
   "metadata": {},
   "outputs": [
    {
     "data": {
      "text/plain": [
       "2.8625185805493937e-20"
      ]
     },
     "execution_count": 26,
     "metadata": {},
     "output_type": "execute_result"
    }
   ],
   "source": [
    "sigmoid(-45)\n"
   ]
  },
  {
   "cell_type": "code",
   "execution_count": 25,
   "id": "693f9e0f",
   "metadata": {},
   "outputs": [
    {
     "data": {
      "text/plain": [
       "0.6224593312018546"
      ]
     },
     "execution_count": 25,
     "metadata": {},
     "output_type": "execute_result"
    }
   ],
   "source": [
    "sigmoid(0.5)\n"
   ]
  },
  {
   "cell_type": "markdown",
   "id": "3cedb594",
   "metadata": {},
   "source": [
    "# tanh - Step Function\n",
    "\n"
   ]
  },
  {
   "cell_type": "code",
   "execution_count": null,
   "id": "d4b10c0a",
   "metadata": {},
   "outputs": [],
   "source": [
    "#This is a simple activation function\n",
    "#We can use it mostly when we are using simple neuralnetwork and we can use it in internal stages of the neural network.\n"
   ]
  },
  {
   "cell_type": "code",
   "execution_count": 11,
   "id": "c66ac5b1",
   "metadata": {},
   "outputs": [],
   "source": [
    "def tanh(x):\n",
    "  return (math.exp(x) - math.exp(-x)) / (math.exp(x) + math.exp(-x))"
   ]
  },
  {
   "cell_type": "code",
   "execution_count": 12,
   "id": "f895597c",
   "metadata": {},
   "outputs": [
    {
     "data": {
      "text/plain": [
       "-1.0"
      ]
     },
     "execution_count": 12,
     "metadata": {},
     "output_type": "execute_result"
    }
   ],
   "source": [
    "tanh(-56)\n"
   ]
  },
  {
   "cell_type": "code",
   "execution_count": 24,
   "id": "42cae66e",
   "metadata": {},
   "outputs": [
    {
     "data": {
      "text/plain": [
       "1.0"
      ]
     },
     "execution_count": 24,
     "metadata": {},
     "output_type": "execute_result"
    }
   ],
   "source": [
    "tanh(45)\n"
   ]
  },
  {
   "cell_type": "code",
   "execution_count": 14,
   "id": "a6010232",
   "metadata": {},
   "outputs": [
    {
     "data": {
      "text/plain": [
       "0.7615941559557649"
      ]
     },
     "execution_count": 14,
     "metadata": {},
     "output_type": "execute_result"
    }
   ],
   "source": [
    "tanh(1)\n"
   ]
  },
  {
   "cell_type": "markdown",
   "id": "6118adf1",
   "metadata": {},
   "source": [
    "# ReLU"
   ]
  },
  {
   "cell_type": "code",
   "execution_count": null,
   "id": "9ac9c6c1",
   "metadata": {},
   "outputs": [],
   "source": [
    "#This function is defined as Rectified linear unit.\n",
    "#The main advantage of this activation function is it does not activate all the neurons at the same time.\n",
    "#If input is negative then this function will it convert it zero.\n",
    "#f(x)=max(0,max)"
   ]
  },
  {
   "cell_type": "code",
   "execution_count": 15,
   "id": "db1c6dae",
   "metadata": {},
   "outputs": [],
   "source": [
    "def relu(x):\n",
    "    return max(0,x)"
   ]
  },
  {
   "cell_type": "code",
   "execution_count": 22,
   "id": "de66a27f",
   "metadata": {},
   "outputs": [
    {
     "data": {
      "text/plain": [
       "0"
      ]
     },
     "execution_count": 22,
     "metadata": {},
     "output_type": "execute_result"
    }
   ],
   "source": [
    "relu(-45)\n"
   ]
  },
  {
   "cell_type": "code",
   "execution_count": 23,
   "id": "8c052f46",
   "metadata": {},
   "outputs": [
    {
     "data": {
      "text/plain": [
       "10"
      ]
     },
     "execution_count": 23,
     "metadata": {},
     "output_type": "execute_result"
    }
   ],
   "source": [
    "relu(10)\n"
   ]
  },
  {
   "cell_type": "markdown",
   "id": "b2ce4b6a",
   "metadata": {},
   "source": [
    "# Leaky ReLU"
   ]
  },
  {
   "cell_type": "code",
   "execution_count": null,
   "id": "a89daa8c",
   "metadata": {},
   "outputs": [],
   "source": [
    "#This is the improved version of the ReLU.\n",
    "#Instead of defining the Relu function as 0 for x less than 0, we define it as a small linear component of x\n",
    "#We can find in detail from below example.\n"
   ]
  },
  {
   "cell_type": "code",
   "execution_count": 19,
   "id": "a38922b5",
   "metadata": {},
   "outputs": [],
   "source": [
    "def leaky_relu(x):\n",
    "    return max(0.1*x,x)"
   ]
  },
  {
   "cell_type": "code",
   "execution_count": 20,
   "id": "ec3b50bb",
   "metadata": {},
   "outputs": [
    {
     "data": {
      "text/plain": [
       "-10.0"
      ]
     },
     "execution_count": 20,
     "metadata": {},
     "output_type": "execute_result"
    }
   ],
   "source": [
    "leaky_relu(-100)\n",
    "#If it is ReLU it will compute value to 0 as it is a negative number.\n",
    "#But here its computing like small linear component of x i.e 100"
   ]
  },
  {
   "cell_type": "code",
   "execution_count": 21,
   "id": "feb6f4b1",
   "metadata": {},
   "outputs": [
    {
     "data": {
      "text/plain": [
       "8"
      ]
     },
     "execution_count": 21,
     "metadata": {},
     "output_type": "execute_result"
    }
   ],
   "source": [
    "leaky_relu(8)\n"
   ]
  },
  {
   "cell_type": "code",
   "execution_count": 29,
   "id": "f7b8418d",
   "metadata": {},
   "outputs": [
    {
     "data": {
      "text/plain": [
       "-5.6000000000000005"
      ]
     },
     "execution_count": 29,
     "metadata": {},
     "output_type": "execute_result"
    }
   ],
   "source": [
    "leaky_relu(-56)\n"
   ]
  },
  {
   "cell_type": "code",
   "execution_count": 28,
   "id": "681492c9",
   "metadata": {},
   "outputs": [
    {
     "data": {
      "text/plain": [
       "-1.0"
      ]
     },
     "execution_count": 28,
     "metadata": {},
     "output_type": "execute_result"
    }
   ],
   "source": [
    "leaky_relu(-10)\n"
   ]
  },
  {
   "cell_type": "code",
   "execution_count": 30,
   "id": "b6a7ecf5",
   "metadata": {},
   "outputs": [
    {
     "data": {
      "text/plain": [
       "10"
      ]
     },
     "execution_count": 30,
     "metadata": {},
     "output_type": "execute_result"
    }
   ],
   "source": [
    "leaky_relu(10)\n"
   ]
  },
  {
   "cell_type": "code",
   "execution_count": null,
   "id": "60327bd9",
   "metadata": {},
   "outputs": [],
   "source": []
  }
 ],
 "metadata": {
  "kernelspec": {
   "display_name": "Python 3 (ipykernel)",
   "language": "python",
   "name": "python3"
  },
  "language_info": {
   "codemirror_mode": {
    "name": "ipython",
    "version": 3
   },
   "file_extension": ".py",
   "mimetype": "text/x-python",
   "name": "python",
   "nbconvert_exporter": "python",
   "pygments_lexer": "ipython3",
   "version": "3.11.4"
  }
 },
 "nbformat": 4,
 "nbformat_minor": 5
}
